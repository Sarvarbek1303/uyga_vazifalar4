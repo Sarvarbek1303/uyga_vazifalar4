{
 "cells": [
  {
   "cell_type": "markdown",
   "metadata": {},
   "source": [
    "UYGA VAZIFA"
   ]
  },
  {
   "cell_type": "code",
   "execution_count": 57,
   "metadata": {},
   "outputs": [],
   "source": [
    "#Install the Library\n",
    "import pandas as pd\n",
    "import numpy as np\n",
    "import matplotlib.pyplot as plt\n",
    "import seaborn as snb"
   ]
  },
  {
   "cell_type": "code",
   "execution_count": 66,
   "metadata": {},
   "outputs": [],
   "source": [
    "#Upload Data\n",
    "df = pd.read_csv(\"cards_data.csv\")"
   ]
  },
  {
   "cell_type": "code",
   "execution_count": 67,
   "metadata": {},
   "outputs": [
    {
     "data": {
      "text/html": [
       "<div>\n",
       "<style scoped>\n",
       "    .dataframe tbody tr th:only-of-type {\n",
       "        vertical-align: middle;\n",
       "    }\n",
       "\n",
       "    .dataframe tbody tr th {\n",
       "        vertical-align: top;\n",
       "    }\n",
       "\n",
       "    .dataframe thead th {\n",
       "        text-align: right;\n",
       "    }\n",
       "</style>\n",
       "<table border=\"1\" class=\"dataframe\">\n",
       "  <thead>\n",
       "    <tr style=\"text-align: right;\">\n",
       "      <th></th>\n",
       "      <th>id</th>\n",
       "      <th>client_id</th>\n",
       "      <th>card_brand</th>\n",
       "      <th>card_type</th>\n",
       "      <th>card_number</th>\n",
       "      <th>expires</th>\n",
       "      <th>cvv</th>\n",
       "      <th>has_chip</th>\n",
       "      <th>num_cards_issued</th>\n",
       "      <th>credit_limit</th>\n",
       "      <th>acct_open_date</th>\n",
       "      <th>year_pin_last_changed</th>\n",
       "      <th>card_on_dark_web</th>\n",
       "    </tr>\n",
       "  </thead>\n",
       "  <tbody>\n",
       "    <tr>\n",
       "      <th>0</th>\n",
       "      <td>4524.0</td>\n",
       "      <td>825.0</td>\n",
       "      <td>Visa</td>\n",
       "      <td>Debit</td>\n",
       "      <td>4.344680e+15</td>\n",
       "      <td>Dec-22</td>\n",
       "      <td>623.0</td>\n",
       "      <td>YES</td>\n",
       "      <td>2</td>\n",
       "      <td>$24295</td>\n",
       "      <td>Sep-02</td>\n",
       "      <td>2008</td>\n",
       "      <td>No</td>\n",
       "    </tr>\n",
       "    <tr>\n",
       "      <th>1</th>\n",
       "      <td>2731.0</td>\n",
       "      <td>825.0</td>\n",
       "      <td>Visa</td>\n",
       "      <td>Debit</td>\n",
       "      <td>4.956970e+15</td>\n",
       "      <td>Dec-20</td>\n",
       "      <td>393.0</td>\n",
       "      <td>YES</td>\n",
       "      <td>2</td>\n",
       "      <td>$21968</td>\n",
       "      <td>Apr-14</td>\n",
       "      <td>2014</td>\n",
       "      <td>No</td>\n",
       "    </tr>\n",
       "    <tr>\n",
       "      <th>2</th>\n",
       "      <td>3701.0</td>\n",
       "      <td>825.0</td>\n",
       "      <td>Visa</td>\n",
       "      <td>NaN</td>\n",
       "      <td>4.582310e+15</td>\n",
       "      <td>Feb-24</td>\n",
       "      <td>719.0</td>\n",
       "      <td>YES</td>\n",
       "      <td>2</td>\n",
       "      <td>$46414</td>\n",
       "      <td>Jul-03</td>\n",
       "      <td>2004</td>\n",
       "      <td>No</td>\n",
       "    </tr>\n",
       "    <tr>\n",
       "      <th>3</th>\n",
       "      <td>42.0</td>\n",
       "      <td>825.0</td>\n",
       "      <td>Visa</td>\n",
       "      <td>Credit</td>\n",
       "      <td>4.879490e+15</td>\n",
       "      <td>Aug-24</td>\n",
       "      <td>693.0</td>\n",
       "      <td>NO</td>\n",
       "      <td>1</td>\n",
       "      <td>$12400</td>\n",
       "      <td>Jan-03</td>\n",
       "      <td>2012</td>\n",
       "      <td>No</td>\n",
       "    </tr>\n",
       "    <tr>\n",
       "      <th>4</th>\n",
       "      <td>4659.0</td>\n",
       "      <td>825.0</td>\n",
       "      <td>Mastercard</td>\n",
       "      <td>Debit (Prepaid)</td>\n",
       "      <td>5.722870e+15</td>\n",
       "      <td>Mar-09</td>\n",
       "      <td>75.0</td>\n",
       "      <td>YES</td>\n",
       "      <td>1</td>\n",
       "      <td>$28</td>\n",
       "      <td>Sep-08</td>\n",
       "      <td>2009</td>\n",
       "      <td>No</td>\n",
       "    </tr>\n",
       "  </tbody>\n",
       "</table>\n",
       "</div>"
      ],
      "text/plain": [
       "       id  client_id  card_brand        card_type   card_number expires  \\\n",
       "0  4524.0      825.0        Visa            Debit  4.344680e+15  Dec-22   \n",
       "1  2731.0      825.0        Visa            Debit  4.956970e+15  Dec-20   \n",
       "2  3701.0      825.0        Visa              NaN  4.582310e+15  Feb-24   \n",
       "3    42.0      825.0        Visa           Credit  4.879490e+15  Aug-24   \n",
       "4  4659.0      825.0  Mastercard  Debit (Prepaid)  5.722870e+15  Mar-09   \n",
       "\n",
       "     cvv has_chip  num_cards_issued credit_limit acct_open_date  \\\n",
       "0  623.0      YES                 2       $24295         Sep-02   \n",
       "1  393.0      YES                 2       $21968         Apr-14   \n",
       "2  719.0      YES                 2       $46414         Jul-03   \n",
       "3  693.0       NO                 1       $12400         Jan-03   \n",
       "4   75.0      YES                 1          $28         Sep-08   \n",
       "\n",
       "   year_pin_last_changed card_on_dark_web  \n",
       "0                   2008               No  \n",
       "1                   2014               No  \n",
       "2                   2004               No  \n",
       "3                   2012               No  \n",
       "4                   2009               No  "
      ]
     },
     "execution_count": 67,
     "metadata": {},
     "output_type": "execute_result"
    }
   ],
   "source": [
    "#Explore Data\n",
    "df.head()"
   ]
  },
  {
   "cell_type": "code",
   "execution_count": 68,
   "metadata": {},
   "outputs": [
    {
     "data": {
      "text/html": [
       "<div>\n",
       "<style scoped>\n",
       "    .dataframe tbody tr th:only-of-type {\n",
       "        vertical-align: middle;\n",
       "    }\n",
       "\n",
       "    .dataframe tbody tr th {\n",
       "        vertical-align: top;\n",
       "    }\n",
       "\n",
       "    .dataframe thead th {\n",
       "        text-align: right;\n",
       "    }\n",
       "</style>\n",
       "<table border=\"1\" class=\"dataframe\">\n",
       "  <thead>\n",
       "    <tr style=\"text-align: right;\">\n",
       "      <th></th>\n",
       "      <th>id</th>\n",
       "      <th>client_id</th>\n",
       "      <th>card_brand</th>\n",
       "      <th>card_type</th>\n",
       "      <th>card_number</th>\n",
       "      <th>expires</th>\n",
       "      <th>cvv</th>\n",
       "      <th>has_chip</th>\n",
       "      <th>num_cards_issued</th>\n",
       "      <th>credit_limit</th>\n",
       "      <th>acct_open_date</th>\n",
       "      <th>year_pin_last_changed</th>\n",
       "      <th>card_on_dark_web</th>\n",
       "    </tr>\n",
       "  </thead>\n",
       "  <tbody>\n",
       "    <tr>\n",
       "      <th>6141</th>\n",
       "      <td>5361.0</td>\n",
       "      <td>185.0</td>\n",
       "      <td>Amex</td>\n",
       "      <td>Credit</td>\n",
       "      <td>3.006100e+14</td>\n",
       "      <td>Jan-24</td>\n",
       "      <td>663.0</td>\n",
       "      <td>YES</td>\n",
       "      <td>1</td>\n",
       "      <td>$6900</td>\n",
       "      <td>Nov-00</td>\n",
       "      <td>2013</td>\n",
       "      <td>No</td>\n",
       "    </tr>\n",
       "    <tr>\n",
       "      <th>6142</th>\n",
       "      <td>2711.0</td>\n",
       "      <td>185.0</td>\n",
       "      <td>Visa</td>\n",
       "      <td>Credit</td>\n",
       "      <td>4.718520e+15</td>\n",
       "      <td>Jan-21</td>\n",
       "      <td>492.0</td>\n",
       "      <td>YES</td>\n",
       "      <td>2</td>\n",
       "      <td>$5700</td>\n",
       "      <td>Apr-12</td>\n",
       "      <td>2012</td>\n",
       "      <td>No</td>\n",
       "    </tr>\n",
       "    <tr>\n",
       "      <th>6143</th>\n",
       "      <td>1305.0</td>\n",
       "      <td>1007.0</td>\n",
       "      <td>Mastercard</td>\n",
       "      <td>Credit</td>\n",
       "      <td>5.929510e+15</td>\n",
       "      <td>Aug-20</td>\n",
       "      <td>237.0</td>\n",
       "      <td>NO</td>\n",
       "      <td>2</td>\n",
       "      <td>$9200</td>\n",
       "      <td>Feb-12</td>\n",
       "      <td>2012</td>\n",
       "      <td>No</td>\n",
       "    </tr>\n",
       "    <tr>\n",
       "      <th>6144</th>\n",
       "      <td>743.0</td>\n",
       "      <td>1110.0</td>\n",
       "      <td>Mastercard</td>\n",
       "      <td>Debit</td>\n",
       "      <td>5.589770e+15</td>\n",
       "      <td>Jan-20</td>\n",
       "      <td>630.0</td>\n",
       "      <td>YES</td>\n",
       "      <td>1</td>\n",
       "      <td>NaN</td>\n",
       "      <td>Jan-20</td>\n",
       "      <td>2020</td>\n",
       "      <td>No</td>\n",
       "    </tr>\n",
       "    <tr>\n",
       "      <th>6145</th>\n",
       "      <td>3199.0</td>\n",
       "      <td>1110.0</td>\n",
       "      <td>Visa</td>\n",
       "      <td>Credit</td>\n",
       "      <td>4.994010e+15</td>\n",
       "      <td>Dec-20</td>\n",
       "      <td>120.0</td>\n",
       "      <td>YES</td>\n",
       "      <td>1</td>\n",
       "      <td>$14400</td>\n",
       "      <td>May-17</td>\n",
       "      <td>2017</td>\n",
       "      <td>No</td>\n",
       "    </tr>\n",
       "  </tbody>\n",
       "</table>\n",
       "</div>"
      ],
      "text/plain": [
       "          id  client_id  card_brand card_type   card_number expires    cvv  \\\n",
       "6141  5361.0      185.0        Amex    Credit  3.006100e+14  Jan-24  663.0   \n",
       "6142  2711.0      185.0        Visa    Credit  4.718520e+15  Jan-21  492.0   \n",
       "6143  1305.0     1007.0  Mastercard    Credit  5.929510e+15  Aug-20  237.0   \n",
       "6144   743.0     1110.0  Mastercard     Debit  5.589770e+15  Jan-20  630.0   \n",
       "6145  3199.0     1110.0        Visa    Credit  4.994010e+15  Dec-20  120.0   \n",
       "\n",
       "     has_chip  num_cards_issued credit_limit acct_open_date  \\\n",
       "6141      YES                 1        $6900         Nov-00   \n",
       "6142      YES                 2        $5700         Apr-12   \n",
       "6143       NO                 2        $9200         Feb-12   \n",
       "6144      YES                 1          NaN         Jan-20   \n",
       "6145      YES                 1       $14400         May-17   \n",
       "\n",
       "      year_pin_last_changed card_on_dark_web  \n",
       "6141                   2013               No  \n",
       "6142                   2012               No  \n",
       "6143                   2012               No  \n",
       "6144                   2020               No  \n",
       "6145                   2017               No  "
      ]
     },
     "execution_count": 68,
     "metadata": {},
     "output_type": "execute_result"
    }
   ],
   "source": [
    "df.tail()"
   ]
  },
  {
   "cell_type": "code",
   "execution_count": 69,
   "metadata": {},
   "outputs": [
    {
     "name": "stdout",
     "output_type": "stream",
     "text": [
      "<class 'pandas.core.frame.DataFrame'>\n",
      "RangeIndex: 6146 entries, 0 to 6145\n",
      "Data columns (total 13 columns):\n",
      " #   Column                 Non-Null Count  Dtype  \n",
      "---  ------                 --------------  -----  \n",
      " 0   id                     6145 non-null   float64\n",
      " 1   client_id              6145 non-null   float64\n",
      " 2   card_brand             6145 non-null   object \n",
      " 3   card_type              6144 non-null   object \n",
      " 4   card_number            6145 non-null   float64\n",
      " 5   expires                6146 non-null   object \n",
      " 6   cvv                    6145 non-null   float64\n",
      " 7   has_chip               6145 non-null   object \n",
      " 8   num_cards_issued       6146 non-null   int64  \n",
      " 9   credit_limit           6144 non-null   object \n",
      " 10  acct_open_date         6145 non-null   object \n",
      " 11  year_pin_last_changed  6146 non-null   int64  \n",
      " 12  card_on_dark_web       6145 non-null   object \n",
      "dtypes: float64(4), int64(2), object(7)\n",
      "memory usage: 624.3+ KB\n"
     ]
    }
   ],
   "source": [
    "#General Information\n",
    "df.info()"
   ]
  },
  {
   "cell_type": "code",
   "execution_count": 70,
   "metadata": {},
   "outputs": [
    {
     "data": {
      "text/plain": [
       "id                       1\n",
       "client_id                1\n",
       "card_brand               1\n",
       "card_type                2\n",
       "card_number              1\n",
       "expires                  0\n",
       "cvv                      1\n",
       "has_chip                 1\n",
       "num_cards_issued         0\n",
       "credit_limit             2\n",
       "acct_open_date           1\n",
       "year_pin_last_changed    0\n",
       "card_on_dark_web         1\n",
       "dtype: int64"
      ]
     },
     "execution_count": 70,
     "metadata": {},
     "output_type": "execute_result"
    }
   ],
   "source": [
    "#Check for Null Value\n",
    "df.isnull().sum()"
   ]
  },
  {
   "cell_type": "code",
   "execution_count": 71,
   "metadata": {},
   "outputs": [
    {
     "name": "stdout",
     "output_type": "stream",
     "text": [
      "The following columns contain missing values:\n",
      "id                  1\n",
      "client_id           1\n",
      "card_brand          1\n",
      "card_type           2\n",
      "card_number         1\n",
      "cvv                 1\n",
      "has_chip            1\n",
      "credit_limit        2\n",
      "acct_open_date      1\n",
      "card_on_dark_web    1\n",
      "dtype: int64\n"
     ]
    }
   ],
   "source": [
    "#Show Columns with Missing Values\n",
    "missing_columns = df.isnull().sum()\n",
    "missing_columns = missing_columns[missing_columns>0]\n",
    "if not missing_columns.empty:\n",
    "    print(\"The following columns contain missing values:\")\n",
    "    print(missing_columns)\n",
    "else:\n",
    "    print(\"The following columns not missing values:\")"
   ]
  },
  {
   "cell_type": "code",
   "execution_count": 72,
   "metadata": {},
   "outputs": [
    {
     "data": {
      "text/plain": [
       "<function matplotlib.pyplot.show(close=None, block=None)>"
      ]
     },
     "execution_count": 72,
     "metadata": {},
     "output_type": "execute_result"
    },
    {
     "data": {
      "image/png": "[encoded data removed]",
      "text/plain": [
       "<Figure size 1000x600 with 1 Axes>"
      ]
     },
     "metadata": {},
     "output_type": "display_data"
    }
   ],
   "source": [
    "# Bar plot of missing values per column\n",
    "missing_counts = df.isnull().sum()\n",
    "missing_counts[missing_counts>0].sort_values(ascending=False).plot(kind='bar',figsize=(10,6),color='skyblue')\n",
    "plt.title('Bar plot of missing values per column')\n",
    "plt.ylabel('number')\n",
    "plt.xlabel('columns')\n",
    "plt.show\n"
   ]
  },
  {
   "cell_type": "code",
   "execution_count": 73,
   "metadata": {},
   "outputs": [],
   "source": [
    "#Fill Missing Values\n",
    "#mean\n",
    "\n",
    "df['cvv'] = df['cvv'].fillna(df['cvv'].mean())\n"
   ]
  },
  {
   "cell_type": "code",
   "execution_count": 74,
   "metadata": {},
   "outputs": [
    {
     "data": {
      "text/plain": [
       "id                       1\n",
       "client_id                1\n",
       "card_brand               1\n",
       "card_type                2\n",
       "card_number              1\n",
       "expires                  0\n",
       "cvv                      0\n",
       "has_chip                 1\n",
       "num_cards_issued         0\n",
       "credit_limit             2\n",
       "acct_open_date           1\n",
       "year_pin_last_changed    0\n",
       "card_on_dark_web         1\n",
       "dtype: int64"
      ]
     },
     "execution_count": 74,
     "metadata": {},
     "output_type": "execute_result"
    }
   ],
   "source": [
    "df.isnull().sum()"
   ]
  },
  {
   "cell_type": "code",
   "execution_count": 78,
   "metadata": {},
   "outputs": [],
   "source": [
    "df['card_type'] = df['card_type'].fillna(df['card_type'].mode()[0])\n"
   ]
  },
  {
   "cell_type": "code",
   "execution_count": 80,
   "metadata": {},
   "outputs": [
    {
     "data": {
      "text/plain": [
       "id                       1\n",
       "client_id                1\n",
       "card_brand               1\n",
       "card_type                0\n",
       "card_number              1\n",
       "expires                  0\n",
       "cvv                      0\n",
       "has_chip                 1\n",
       "num_cards_issued         0\n",
       "credit_limit             2\n",
       "acct_open_date           1\n",
       "year_pin_last_changed    0\n",
       "card_on_dark_web         1\n",
       "dtype: int64"
      ]
     },
     "execution_count": 80,
     "metadata": {},
     "output_type": "execute_result"
    }
   ],
   "source": [
    "df.isnull().sum()"
   ]
  },
  {
   "cell_type": "code",
   "execution_count": 82,
   "metadata": {},
   "outputs": [],
   "source": [
    "for column in df.columns:\n",
    "    if df[column].isnull().sum() > 0:\n",
    "        if df[column].dtype == 'object':\n",
    "            df[column] = df[column].fillna(df[column].mode()[0])\n",
    "        else:\n",
    "            df[column] = df[column].fillna(df[column].mean())\n"
   ]
  },
  {
   "cell_type": "code",
   "execution_count": 83,
   "metadata": {},
   "outputs": [
    {
     "data": {
      "text/plain": [
       "id                       0\n",
       "client_id                0\n",
       "card_brand               0\n",
       "card_type                0\n",
       "card_number              0\n",
       "expires                  0\n",
       "cvv                      0\n",
       "has_chip                 0\n",
       "num_cards_issued         0\n",
       "credit_limit             0\n",
       "acct_open_date           0\n",
       "year_pin_last_changed    0\n",
       "card_on_dark_web         0\n",
       "dtype: int64"
      ]
     },
     "execution_count": 83,
     "metadata": {},
     "output_type": "execute_result"
    }
   ],
   "source": [
    "df.isnull().sum()"
   ]
  },
  {
   "cell_type": "code",
   "execution_count": 84,
   "metadata": {},
   "outputs": [],
   "source": [
    "#Label Encoding\n",
    "\n",
    "categorical_data=df.select_dtypes(include=['object', 'category']).columns"
   ]
  },
  {
   "cell_type": "code",
   "execution_count": 85,
   "metadata": {},
   "outputs": [
    {
     "data": {
      "text/plain": [
       "Index(['card_brand', 'card_type', 'expires', 'has_chip', 'credit_limit',\n",
       "       'acct_open_date', 'card_on_dark_web'],\n",
       "      dtype='object')"
      ]
     },
     "execution_count": 85,
     "metadata": {},
     "output_type": "execute_result"
    }
   ],
   "source": [
    "categorical_data"
   ]
  },
  {
   "cell_type": "code",
   "execution_count": 86,
   "metadata": {},
   "outputs": [],
   "source": [
    "#Label encoding\n",
    "\n",
    "from sklearn.preprocessing  import LabelEncoder\n",
    "label_encoder=LabelEncoder"
   ]
  },
  {
   "cell_type": "code",
   "execution_count": 87,
   "metadata": {},
   "outputs": [],
   "source": [
    "#Label Encoding\n",
    "\n",
    "categorical_columns=df.select_dtypes(include=['object', 'category']).columns"
   ]
  },
  {
   "cell_type": "code",
   "execution_count": 88,
   "metadata": {},
   "outputs": [
    {
     "data": {
      "text/plain": [
       "Index(['card_brand', 'card_type', 'expires', 'has_chip', 'credit_limit',\n",
       "       'acct_open_date', 'card_on_dark_web'],\n",
       "      dtype='object')"
      ]
     },
     "execution_count": 88,
     "metadata": {},
     "output_type": "execute_result"
    }
   ],
   "source": [
    "categorical_columns"
   ]
  },
  {
   "cell_type": "code",
   "execution_count": 89,
   "metadata": {},
   "outputs": [],
   "source": [
    "#Label encoding\n",
    "\n",
    "from sklearn.preprocessing  import LabelEncoder\n",
    "label_encoder=LabelEncoder"
   ]
  },
  {
   "cell_type": "code",
   "execution_count": 92,
   "metadata": {},
   "outputs": [
    {
     "name": "stdout",
     "output_type": "stream",
     "text": [
      "       id  client_id  card_brand  card_type   card_number  expires    cvv  \\\n",
      "0  4524.0      825.0           3          1  4.344680e+15       59  623.0   \n",
      "1  2731.0      825.0           3          1  4.956970e+15       57  393.0   \n",
      "2  3701.0      825.0           3          1  4.582310e+15       83  719.0   \n",
      "3    42.0      825.0           3          0  4.879490e+15       39  693.0   \n",
      "4  4659.0      825.0           2          2  5.722870e+15      154   75.0   \n",
      "\n",
      "   has_chip  num_cards_issued  credit_limit  acct_open_date  \\\n",
      "0         1                 2          2099             278   \n",
      "1         1                 2          1856              14   \n",
      "2         1                 2          3025             134   \n",
      "3         0                 1           383             107   \n",
      "4         1                 1          2412             284   \n",
      "\n",
      "   year_pin_last_changed  card_on_dark_web  \n",
      "0                   2008                 0  \n",
      "1                   2014                 0  \n",
      "2                   2004                 0  \n",
      "3                   2012                 0  \n",
      "4                   2009                 0  \n",
      "       id  client_id  card_brand  card_type   card_number  expires    cvv  \\\n",
      "0  4524.0      825.0           3          1  4.344680e+15       59  623.0   \n",
      "1  2731.0      825.0           3          1  4.956970e+15       57  393.0   \n",
      "2  3701.0      825.0           3          1  4.582310e+15       83  719.0   \n",
      "3    42.0      825.0           3          0  4.879490e+15       39  693.0   \n",
      "4  4659.0      825.0           2          2  5.722870e+15      154   75.0   \n",
      "\n",
      "   has_chip  num_cards_issued  credit_limit  acct_open_date  \\\n",
      "0         1                 2          2099             278   \n",
      "1         1                 2          1856              14   \n",
      "2         1                 2          3025             134   \n",
      "3         0                 1           383             107   \n",
      "4         1                 1          2412             284   \n",
      "\n",
      "   year_pin_last_changed  card_on_dark_web  \n",
      "0                   2008                 0  \n",
      "1                   2014                 0  \n",
      "2                   2004                 0  \n",
      "3                   2012                 0  \n",
      "4                   2009                 0  \n",
      "       id  client_id  card_brand  card_type   card_number  expires    cvv  \\\n",
      "0  4524.0      825.0           3          1  4.344680e+15       59  623.0   \n",
      "1  2731.0      825.0           3          1  4.956970e+15       57  393.0   \n",
      "2  3701.0      825.0           3          1  4.582310e+15       83  719.0   \n",
      "3    42.0      825.0           3          0  4.879490e+15       39  693.0   \n",
      "4  4659.0      825.0           2          2  5.722870e+15      154   75.0   \n",
      "\n",
      "   has_chip  num_cards_issued  credit_limit  acct_open_date  \\\n",
      "0         1                 2          2099             278   \n",
      "1         1                 2          1856              14   \n",
      "2         1                 2          3025             134   \n",
      "3         0                 1           383             107   \n",
      "4         1                 1          2412             284   \n",
      "\n",
      "   year_pin_last_changed  card_on_dark_web  \n",
      "0                   2008                 0  \n",
      "1                   2014                 0  \n",
      "2                   2004                 0  \n",
      "3                   2012                 0  \n",
      "4                   2009                 0  \n",
      "       id  client_id  card_brand  card_type   card_number  expires    cvv  \\\n",
      "0  4524.0      825.0           3          1  4.344680e+15       59  623.0   \n",
      "1  2731.0      825.0           3          1  4.956970e+15       57  393.0   \n",
      "2  3701.0      825.0           3          1  4.582310e+15       83  719.0   \n",
      "3    42.0      825.0           3          0  4.879490e+15       39  693.0   \n",
      "4  4659.0      825.0           2          2  5.722870e+15      154   75.0   \n",
      "\n",
      "   has_chip  num_cards_issued  credit_limit  acct_open_date  \\\n",
      "0         1                 2          2099             278   \n",
      "1         1                 2          1856              14   \n",
      "2         1                 2          3025             134   \n",
      "3         0                 1           383             107   \n",
      "4         1                 1          2412             284   \n",
      "\n",
      "   year_pin_last_changed  card_on_dark_web  \n",
      "0                   2008                 0  \n",
      "1                   2014                 0  \n",
      "2                   2004                 0  \n",
      "3                   2012                 0  \n",
      "4                   2009                 0  \n",
      "       id  client_id  card_brand  card_type   card_number  expires    cvv  \\\n",
      "0  4524.0      825.0           3          1  4.344680e+15       59  623.0   \n",
      "1  2731.0      825.0           3          1  4.956970e+15       57  393.0   \n",
      "2  3701.0      825.0           3          1  4.582310e+15       83  719.0   \n",
      "3    42.0      825.0           3          0  4.879490e+15       39  693.0   \n",
      "4  4659.0      825.0           2          2  5.722870e+15      154   75.0   \n",
      "\n",
      "   has_chip  num_cards_issued  credit_limit  acct_open_date  \\\n",
      "0         1                 2          2099             278   \n",
      "1         1                 2          1856              14   \n",
      "2         1                 2          3025             134   \n",
      "3         0                 1           383             107   \n",
      "4         1                 1          2412             284   \n",
      "\n",
      "   year_pin_last_changed  card_on_dark_web  \n",
      "0                   2008                 0  \n",
      "1                   2014                 0  \n",
      "2                   2004                 0  \n",
      "3                   2012                 0  \n",
      "4                   2009                 0  \n",
      "       id  client_id  card_brand  card_type   card_number  expires    cvv  \\\n",
      "0  4524.0      825.0           3          1  4.344680e+15       59  623.0   \n",
      "1  2731.0      825.0           3          1  4.956970e+15       57  393.0   \n",
      "2  3701.0      825.0           3          1  4.582310e+15       83  719.0   \n",
      "3    42.0      825.0           3          0  4.879490e+15       39  693.0   \n",
      "4  4659.0      825.0           2          2  5.722870e+15      154   75.0   \n",
      "\n",
      "   has_chip  num_cards_issued  credit_limit  acct_open_date  \\\n",
      "0         1                 2          2099             278   \n",
      "1         1                 2          1856              14   \n",
      "2         1                 2          3025             134   \n",
      "3         0                 1           383             107   \n",
      "4         1                 1          2412             284   \n",
      "\n",
      "   year_pin_last_changed  card_on_dark_web  \n",
      "0                   2008                 0  \n",
      "1                   2014                 0  \n",
      "2                   2004                 0  \n",
      "3                   2012                 0  \n",
      "4                   2009                 0  \n",
      "       id  client_id  card_brand  card_type   card_number  expires    cvv  \\\n",
      "0  4524.0      825.0           3          1  4.344680e+15       59  623.0   \n",
      "1  2731.0      825.0           3          1  4.956970e+15       57  393.0   \n",
      "2  3701.0      825.0           3          1  4.582310e+15       83  719.0   \n",
      "3    42.0      825.0           3          0  4.879490e+15       39  693.0   \n",
      "4  4659.0      825.0           2          2  5.722870e+15      154   75.0   \n",
      "\n",
      "   has_chip  num_cards_issued  credit_limit  acct_open_date  \\\n",
      "0         1                 2          2099             278   \n",
      "1         1                 2          1856              14   \n",
      "2         1                 2          3025             134   \n",
      "3         0                 1           383             107   \n",
      "4         1                 1          2412             284   \n",
      "\n",
      "   year_pin_last_changed  card_on_dark_web  \n",
      "0                   2008                 0  \n",
      "1                   2014                 0  \n",
      "2                   2004                 0  \n",
      "3                   2012                 0  \n",
      "4                   2009                 0  \n"
     ]
    }
   ],
   "source": [
    "from sklearn.preprocessing import LabelEncoder\n",
    "label_encoder = LabelEncoder()\n",
    "for col in categorical_col:\n",
    "    df[col] = label_encoder.fit_transform(df[col])\n",
    "    print(df.head())"
   ]
  }
 ],
 "metadata": {
  "kernelspec": {
   "display_name": "base",
   "language": "python",
   "name": "python3"
  },
  "language_info": {
   "codemirror_mode": {
    "name": "ipython",
    "version": 3
   },
   "file_extension": ".py",
   "mimetype": "text/x-python",
   "name": "python",
   "nbconvert_exporter": "python",
   "pygments_lexer": "ipython3",
   "version": "3.12.4"
  }
 },
 "nbformat": 4,
 "nbformat_minor": 2
}
